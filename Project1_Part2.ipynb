{
 "cells": [
  {
   "cell_type": "markdown",
   "id": "c0170f13-b435-4c96-9143-cecfa7281002",
   "metadata": {
    "panel-layout": {
     "height": 156.9375,
     "visible": true,
     "width": 100
    }
   },
   "source": [
    "***\n",
    "# Project #1 Part 2: Data Exploration and Cleaning\n",
    "### Felicia Faith Hangge\n",
    "### 25 February 2025\n",
    "\n",
    "#### Exploring dataset and using pandas to clean data to prepare for further analysis and answering data science questions.\n",
    "***"
   ]
  },
  {
   "cell_type": "markdown",
   "id": "e30ca148-1177-459d-b0d1-bba0aebb4ce0",
   "metadata": {
    "panel-layout": {
     "height": 84.40625,
     "visible": true,
     "width": 100
    }
   },
   "source": [
    "\n",
    "## I.) Importing pandas library and dataset\n",
    "Dataset: Non Major Survey Data from 2024\n"
   ]
  },
  {
   "cell_type": "code",
   "execution_count": 4,
   "id": "2ad0aba2-d12a-4455-a907-774a5b28ac6c",
   "metadata": {},
   "outputs": [],
   "source": [
    "import pandas as pd"
   ]
  },
  {
   "cell_type": "code",
   "execution_count": 5,
   "id": "61e74520-014c-4759-94a7-1b7855ac08d0",
   "metadata": {},
   "outputs": [],
   "source": [
    "file_path = \"Non-Majors Survey Results - Fall 2024.csv\"\n",
    "df = pd.read_csv('/Users/faitth/Desktop/CMP-262/Project #1/Non-Majors Survey Results - Fall 2024.csv')"
   ]
  },
  {
   "cell_type": "markdown",
   "id": "629c9dbb-8aff-433f-b552-f543d0705593",
   "metadata": {
    "panel-layout": {
     "height": 84.484375,
     "visible": true,
     "width": 100
    }
   },
   "source": [
    "***\n",
    "## 1.) Exploring Data using pandas’ built-in functions\n",
    "#### displaying samples, column information, statistical information, and general information about the dataset."
   ]
  },
  {
   "cell_type": "code",
   "execution_count": 7,
   "id": "d962be80-c2dd-4c22-94b4-e50000aee4b9",
   "metadata": {
    "panel-layout": {
     "height": 779,
     "visible": true,
     "width": 100
    }
   },
   "outputs": [
    {
     "data": {
      "text/html": [
       "<div>\n",
       "<style scoped>\n",
       "    .dataframe tbody tr th:only-of-type {\n",
       "        vertical-align: middle;\n",
       "    }\n",
       "\n",
       "    .dataframe tbody tr th {\n",
       "        vertical-align: top;\n",
       "    }\n",
       "\n",
       "    .dataframe thead th {\n",
       "        text-align: right;\n",
       "    }\n",
       "</style>\n",
       "<table border=\"1\" class=\"dataframe\">\n",
       "  <thead>\n",
       "    <tr style=\"text-align: right;\">\n",
       "      <th></th>\n",
       "      <th>Timestamp</th>\n",
       "      <th>Which course are you currently enrolled in?</th>\n",
       "      <th>What motivated you to seek a computing class at CCM? [It’s a required class for the degree I’m seeking]</th>\n",
       "      <th>What motivated you to seek a computing class at CCM? [To keep current in computing skills]</th>\n",
       "      <th>What motivated you to seek a computing class at CCM? [Career Advancement]</th>\n",
       "      <th>What motivated you to seek a computing class at CCM? [Career Change]</th>\n",
       "      <th>What motivated you to seek a computing class at CCM? [Professional Development]</th>\n",
       "      <th>What motivated you to seek a computing class at CCM? [Job Displacement]</th>\n",
       "      <th>What motivated you to seek a computing class at CCM? [Relocation]</th>\n",
       "      <th>What motivated you to seek a computing class at CCM? [IT Industry Certifications]</th>\n",
       "      <th>...</th>\n",
       "      <th>If you answered that you were interested in taking more computing classes, which ones interest you most? [CyberSecurity]</th>\n",
       "      <th>If you answered that you were interested in taking more computing classes, which ones interest you most? [App Development]</th>\n",
       "      <th>If you answered that you were interested in taking more computing classes, which ones interest you most? [Data Analytics]</th>\n",
       "      <th>If you answered that you were interested in taking more computing classes, which ones interest you most? [Machine Learning/Artificial Intelligence]</th>\n",
       "      <th>If you answered that you were interested in taking more computing classes, which ones interest you most? [Computer Programming]</th>\n",
       "      <th>If you answered that you were interested in taking more computing classes, which ones interest you most? [Game Design]</th>\n",
       "      <th>If you answered that you were interested in taking more computing classes, which ones interest you most? [Hardware Installation &amp; Repair]</th>\n",
       "      <th>Gender</th>\n",
       "      <th>Race/ethnicity</th>\n",
       "      <th>Age</th>\n",
       "    </tr>\n",
       "  </thead>\n",
       "  <tbody>\n",
       "    <tr>\n",
       "      <th>0</th>\n",
       "      <td>2024/09/10 10:47:35 AM AST</td>\n",
       "      <td>CMP 126 Computer Technology and Applications</td>\n",
       "      <td>No</td>\n",
       "      <td>Yes</td>\n",
       "      <td>Yes</td>\n",
       "      <td>Yes</td>\n",
       "      <td>Yes</td>\n",
       "      <td>No</td>\n",
       "      <td>No</td>\n",
       "      <td>No</td>\n",
       "      <td>...</td>\n",
       "      <td>Yes</td>\n",
       "      <td>No</td>\n",
       "      <td>No</td>\n",
       "      <td>No</td>\n",
       "      <td>No</td>\n",
       "      <td>No</td>\n",
       "      <td>No</td>\n",
       "      <td>Prefer not to say</td>\n",
       "      <td>Hispanic or Latino;Black/African American;Whit...</td>\n",
       "      <td>19-20</td>\n",
       "    </tr>\n",
       "    <tr>\n",
       "      <th>1</th>\n",
       "      <td>2024/09/10 11:00:05 AM AST</td>\n",
       "      <td>CMP 126 Computer Technology and Applications</td>\n",
       "      <td>Yes</td>\n",
       "      <td>Yes</td>\n",
       "      <td>Yes</td>\n",
       "      <td>No</td>\n",
       "      <td>Yes</td>\n",
       "      <td>Yes</td>\n",
       "      <td>No</td>\n",
       "      <td>No</td>\n",
       "      <td>...</td>\n",
       "      <td>Yes</td>\n",
       "      <td>Yes</td>\n",
       "      <td>Yes</td>\n",
       "      <td>Yes</td>\n",
       "      <td>Yes</td>\n",
       "      <td>No</td>\n",
       "      <td>No</td>\n",
       "      <td>Woman</td>\n",
       "      <td>Hispanic or Latino</td>\n",
       "      <td>19-20</td>\n",
       "    </tr>\n",
       "    <tr>\n",
       "      <th>2</th>\n",
       "      <td>2024/09/10 11:02:51 AM AST</td>\n",
       "      <td>CMP 126 Computer Technology and Applications</td>\n",
       "      <td>Yes</td>\n",
       "      <td>Yes</td>\n",
       "      <td>Yes</td>\n",
       "      <td>Yes</td>\n",
       "      <td>Yes</td>\n",
       "      <td>Yes</td>\n",
       "      <td>Yes</td>\n",
       "      <td>No</td>\n",
       "      <td>...</td>\n",
       "      <td>No</td>\n",
       "      <td>Yes</td>\n",
       "      <td>No</td>\n",
       "      <td>Yes</td>\n",
       "      <td>Yes</td>\n",
       "      <td>Yes</td>\n",
       "      <td>Yes</td>\n",
       "      <td>Man</td>\n",
       "      <td>Choose not to reply</td>\n",
       "      <td>18 and younger</td>\n",
       "    </tr>\n",
       "    <tr>\n",
       "      <th>3</th>\n",
       "      <td>2024/09/10 11:05:25 AM AST</td>\n",
       "      <td>CMP 126 Computer Technology and Applications</td>\n",
       "      <td>No</td>\n",
       "      <td>Yes</td>\n",
       "      <td>No</td>\n",
       "      <td>No</td>\n",
       "      <td>No</td>\n",
       "      <td>No</td>\n",
       "      <td>No</td>\n",
       "      <td>No</td>\n",
       "      <td>...</td>\n",
       "      <td>No</td>\n",
       "      <td>No</td>\n",
       "      <td>Yes</td>\n",
       "      <td>No</td>\n",
       "      <td>No</td>\n",
       "      <td>Yes</td>\n",
       "      <td>No</td>\n",
       "      <td>Man</td>\n",
       "      <td>Hispanic or Latino</td>\n",
       "      <td>19-20</td>\n",
       "    </tr>\n",
       "    <tr>\n",
       "      <th>4</th>\n",
       "      <td>2024/09/10 8:37:36 PM AST</td>\n",
       "      <td>CMP 101 Computer Information Literacy</td>\n",
       "      <td>Yes</td>\n",
       "      <td>Yes</td>\n",
       "      <td>Yes</td>\n",
       "      <td>No</td>\n",
       "      <td>Yes</td>\n",
       "      <td>No</td>\n",
       "      <td>No</td>\n",
       "      <td>No</td>\n",
       "      <td>...</td>\n",
       "      <td>No</td>\n",
       "      <td>No</td>\n",
       "      <td>No</td>\n",
       "      <td>No</td>\n",
       "      <td>No</td>\n",
       "      <td>No</td>\n",
       "      <td>No</td>\n",
       "      <td>Woman</td>\n",
       "      <td>White/Caucasian</td>\n",
       "      <td>19-20</td>\n",
       "    </tr>\n",
       "  </tbody>\n",
       "</table>\n",
       "<p>5 rows × 71 columns</p>\n",
       "</div>"
      ],
      "text/plain": [
       "                    Timestamp   Which course are you currently enrolled in?  \\\n",
       "0  2024/09/10 10:47:35 AM AST  CMP 126 Computer Technology and Applications   \n",
       "1  2024/09/10 11:00:05 AM AST  CMP 126 Computer Technology and Applications   \n",
       "2  2024/09/10 11:02:51 AM AST  CMP 126 Computer Technology and Applications   \n",
       "3  2024/09/10 11:05:25 AM AST  CMP 126 Computer Technology and Applications   \n",
       "4   2024/09/10 8:37:36 PM AST         CMP 101 Computer Information Literacy   \n",
       "\n",
       "  What motivated you to seek a computing class at CCM? [It’s a required class for the degree I’m seeking]  \\\n",
       "0                                                 No                                                        \n",
       "1                                                Yes                                                        \n",
       "2                                                Yes                                                        \n",
       "3                                                 No                                                        \n",
       "4                                                Yes                                                        \n",
       "\n",
       "  What motivated you to seek a computing class at CCM? [To keep current in computing skills]  \\\n",
       "0                                                Yes                                           \n",
       "1                                                Yes                                           \n",
       "2                                                Yes                                           \n",
       "3                                                Yes                                           \n",
       "4                                                Yes                                           \n",
       "\n",
       "  What motivated you to seek a computing class at CCM? [Career Advancement]  \\\n",
       "0                                                Yes                          \n",
       "1                                                Yes                          \n",
       "2                                                Yes                          \n",
       "3                                                 No                          \n",
       "4                                                Yes                          \n",
       "\n",
       "  What motivated you to seek a computing class at CCM? [Career Change]  \\\n",
       "0                                                Yes                     \n",
       "1                                                 No                     \n",
       "2                                                Yes                     \n",
       "3                                                 No                     \n",
       "4                                                 No                     \n",
       "\n",
       "  What motivated you to seek a computing class at CCM? [Professional Development]  \\\n",
       "0                                                Yes                                \n",
       "1                                                Yes                                \n",
       "2                                                Yes                                \n",
       "3                                                 No                                \n",
       "4                                                Yes                                \n",
       "\n",
       "  What motivated you to seek a computing class at CCM? [Job Displacement]  \\\n",
       "0                                                 No                        \n",
       "1                                                Yes                        \n",
       "2                                                Yes                        \n",
       "3                                                 No                        \n",
       "4                                                 No                        \n",
       "\n",
       "  What motivated you to seek a computing class at CCM? [Relocation]  \\\n",
       "0                                                 No                  \n",
       "1                                                 No                  \n",
       "2                                                Yes                  \n",
       "3                                                 No                  \n",
       "4                                                 No                  \n",
       "\n",
       "  What motivated you to seek a computing class at CCM? [IT Industry Certifications]  \\\n",
       "0                                                 No                                  \n",
       "1                                                 No                                  \n",
       "2                                                 No                                  \n",
       "3                                                 No                                  \n",
       "4                                                 No                                  \n",
       "\n",
       "   ...  \\\n",
       "0  ...   \n",
       "1  ...   \n",
       "2  ...   \n",
       "3  ...   \n",
       "4  ...   \n",
       "\n",
       "  If you answered that you were interested in taking more computing classes, which ones interest you most? [CyberSecurity]  \\\n",
       "0                                                Yes                                                                         \n",
       "1                                                Yes                                                                         \n",
       "2                                                 No                                                                         \n",
       "3                                                 No                                                                         \n",
       "4                                                 No                                                                         \n",
       "\n",
       "  If you answered that you were interested in taking more computing classes, which ones interest you most? [App Development]  \\\n",
       "0                                                 No                                                                           \n",
       "1                                                Yes                                                                           \n",
       "2                                                Yes                                                                           \n",
       "3                                                 No                                                                           \n",
       "4                                                 No                                                                           \n",
       "\n",
       "  If you answered that you were interested in taking more computing classes, which ones interest you most? [Data Analytics]  \\\n",
       "0                                                 No                                                                          \n",
       "1                                                Yes                                                                          \n",
       "2                                                 No                                                                          \n",
       "3                                                Yes                                                                          \n",
       "4                                                 No                                                                          \n",
       "\n",
       "  If you answered that you were interested in taking more computing classes, which ones interest you most? [Machine Learning/Artificial Intelligence]  \\\n",
       "0                                                 No                                                                                                    \n",
       "1                                                Yes                                                                                                    \n",
       "2                                                Yes                                                                                                    \n",
       "3                                                 No                                                                                                    \n",
       "4                                                 No                                                                                                    \n",
       "\n",
       "  If you answered that you were interested in taking more computing classes, which ones interest you most? [Computer Programming]  \\\n",
       "0                                                 No                                                                                \n",
       "1                                                Yes                                                                                \n",
       "2                                                Yes                                                                                \n",
       "3                                                 No                                                                                \n",
       "4                                                 No                                                                                \n",
       "\n",
       "  If you answered that you were interested in taking more computing classes, which ones interest you most? [Game Design]  \\\n",
       "0                                                 No                                                                       \n",
       "1                                                 No                                                                       \n",
       "2                                                Yes                                                                       \n",
       "3                                                Yes                                                                       \n",
       "4                                                 No                                                                       \n",
       "\n",
       "  If you answered that you were interested in taking more computing classes, which ones interest you most? [Hardware Installation & Repair]  \\\n",
       "0                                                 No                                                                                          \n",
       "1                                                 No                                                                                          \n",
       "2                                                Yes                                                                                          \n",
       "3                                                 No                                                                                          \n",
       "4                                                 No                                                                                          \n",
       "\n",
       "              Gender                                     Race/ethnicity  \\\n",
       "0  Prefer not to say  Hispanic or Latino;Black/African American;Whit...   \n",
       "1              Woman                                 Hispanic or Latino   \n",
       "2                Man                                Choose not to reply   \n",
       "3                Man                                 Hispanic or Latino   \n",
       "4              Woman                                    White/Caucasian   \n",
       "\n",
       "             Age   \n",
       "0           19-20  \n",
       "1           19-20  \n",
       "2  18 and younger  \n",
       "3           19-20  \n",
       "4           19-20  \n",
       "\n",
       "[5 rows x 71 columns]"
      ]
     },
     "execution_count": 7,
     "metadata": {},
     "output_type": "execute_result"
    }
   ],
   "source": [
    "df.head()"
   ]
  },
  {
   "cell_type": "code",
   "execution_count": 8,
   "id": "a7e07c7e-846e-42af-94dc-6eba4359cd78",
   "metadata": {
    "panel-layout": {
     "height": 249.5,
     "visible": true,
     "width": 100
    }
   },
   "outputs": [
    {
     "data": {
      "text/html": [
       "<div>\n",
       "<style scoped>\n",
       "    .dataframe tbody tr th:only-of-type {\n",
       "        vertical-align: middle;\n",
       "    }\n",
       "\n",
       "    .dataframe tbody tr th {\n",
       "        vertical-align: top;\n",
       "    }\n",
       "\n",
       "    .dataframe thead th {\n",
       "        text-align: right;\n",
       "    }\n",
       "</style>\n",
       "<table border=\"1\" class=\"dataframe\">\n",
       "  <thead>\n",
       "    <tr style=\"text-align: right;\">\n",
       "      <th></th>\n",
       "      <th>On a scale of 1 to 5, with 1 being not at all interested and 5 being extremely interested, how interested are you taking more courses in Computer Science, Information Technology or Game Development?</th>\n",
       "    </tr>\n",
       "  </thead>\n",
       "  <tbody>\n",
       "    <tr>\n",
       "      <th>count</th>\n",
       "      <td>92.000000</td>\n",
       "    </tr>\n",
       "    <tr>\n",
       "      <th>mean</th>\n",
       "      <td>2.576087</td>\n",
       "    </tr>\n",
       "    <tr>\n",
       "      <th>std</th>\n",
       "      <td>1.131310</td>\n",
       "    </tr>\n",
       "    <tr>\n",
       "      <th>min</th>\n",
       "      <td>1.000000</td>\n",
       "    </tr>\n",
       "    <tr>\n",
       "      <th>25%</th>\n",
       "      <td>2.000000</td>\n",
       "    </tr>\n",
       "    <tr>\n",
       "      <th>50%</th>\n",
       "      <td>3.000000</td>\n",
       "    </tr>\n",
       "    <tr>\n",
       "      <th>75%</th>\n",
       "      <td>3.000000</td>\n",
       "    </tr>\n",
       "    <tr>\n",
       "      <th>max</th>\n",
       "      <td>5.000000</td>\n",
       "    </tr>\n",
       "  </tbody>\n",
       "</table>\n",
       "</div>"
      ],
      "text/plain": [
       "       On a scale of 1 to 5, with 1 being not at all interested and 5 being extremely interested, how interested are you taking more courses in Computer Science, Information Technology or Game Development?\n",
       "count                                          92.000000                                                                                                                                                     \n",
       "mean                                            2.576087                                                                                                                                                     \n",
       "std                                             1.131310                                                                                                                                                     \n",
       "min                                             1.000000                                                                                                                                                     \n",
       "25%                                             2.000000                                                                                                                                                     \n",
       "50%                                             3.000000                                                                                                                                                     \n",
       "75%                                             3.000000                                                                                                                                                     \n",
       "max                                             5.000000                                                                                                                                                     "
      ]
     },
     "execution_count": 8,
     "metadata": {},
     "output_type": "execute_result"
    }
   ],
   "source": [
    "df.describe()"
   ]
  },
  {
   "cell_type": "code",
   "execution_count": 9,
   "id": "f7fa726a-70b7-4164-bca1-fb7be0632bed",
   "metadata": {
    "panel-layout": {
     "height": 1192.703125,
     "visible": true,
     "width": 100
    }
   },
   "outputs": [
    {
     "data": {
      "text/plain": [
       "Index(['Timestamp', 'Which course are you currently enrolled in?',\n",
       "       'What motivated you to seek a computing class at CCM? [It’s a required class for the degree I’m seeking]',\n",
       "       'What motivated you to seek a computing class at CCM? [To keep current in computing skills]',\n",
       "       'What motivated you to seek a computing class at CCM? [Career Advancement]',\n",
       "       'What motivated you to seek a computing class at CCM? [Career Change]',\n",
       "       'What motivated you to seek a computing class at CCM? [Professional Development]',\n",
       "       'What motivated you to seek a computing class at CCM? [Job Displacement]',\n",
       "       'What motivated you to seek a computing class at CCM? [Relocation]',\n",
       "       'What motivated you to seek a computing class at CCM? [IT Industry Certifications]',\n",
       "       'What motivated you to seek a computing class at CCM? [Financial]',\n",
       "       'What motivated you to seek a computing class at CCM? [Personal Enrichment]',\n",
       "       'What motivated you to seek a computing class at CCM? [Curiosity]',\n",
       "       'Prior to applying to college, did you participate in any of the following events or activities at the County College of Morris and/or with the Department of Information Technologies, if at all? [Open House]',\n",
       "       'Prior to applying to college, did you participate in any of the following events or activities at the County College of Morris and/or with the Department of Information Technologies, if at all? [Instant Decision Day]',\n",
       "       'Prior to applying to college, did you participate in any of the following events or activities at the County College of Morris and/or with the Department of Information Technologies, if at all? [On-Campus Information Session]',\n",
       "       'Prior to applying to college, did you participate in any of the following events or activities at the County College of Morris and/or with the Department of Information Technologies, if at all? [TItan's Tuesday Virtual Information Session]',\n",
       "       'Prior to applying to college, did you participate in any of the following events or activities at the County College of Morris and/or with the Department of Information Technologies, if at all? [Women Who Dare]',\n",
       "       'Prior to applying to college, did you participate in any of the following events or activities at the County College of Morris and/or with the Department of Information Technologies, if at all? [Regional College Fair]',\n",
       "       'To what extent did the following activities or experience impact your decision to enroll in an computing course at CCM? [Middle/High school computing class]',\n",
       "       'To what extent did the following activities or experience impact your decision to enroll in an computing course at CCM? [Middle/High school computing related club]',\n",
       "       'To what extent did the following activities or experience impact your decision to enroll in an computing course at CCM? [Computing-related competitions (e.g., Robotics competition, Lego competition, Cybersecurity, Programming)]',\n",
       "       'To what extent did the following activities or experience impact your decision to enroll in an computing course at CCM? [Afterschool computing-related camp/program]',\n",
       "       'To what extent did the following activities or experience impact your decision to enroll in an computing course at CCM? [Summer computing related camp/program]',\n",
       "       'To what extent did the following activities or experience impact your decision to enroll in an computing course at CCM? [An AP computing class]',\n",
       "       'To what extent did the following activities or experience impact your decision to enroll in an computing course at CCM? [A dual enrollment computing class]',\n",
       "       'To what extent did the following activities or experience impact your decision to enroll in an computing course at CCM? [Family or friend influence]',\n",
       "       'To what extent did the following activities or experience impact your decision to enroll in an computing course at CCM? [Family or friend working in the computing field]',\n",
       "       'To what extent did the following activities or experience impact your decision to enroll in an computing course at CCM? [High school teacher or guidance counselor]',\n",
       "       'To what extent did the following activities or experience impact your decision to enroll in an computing course at CCM? [Employer influence]',\n",
       "       'How did you hear about County College of Morris  [CCM Web site]',\n",
       "       'How did you hear about County College of Morris  [Billboard]',\n",
       "       'How did you hear about County College of Morris  [Television]',\n",
       "       'How did you hear about County College of Morris  [Radio]',\n",
       "       'How did you hear about County College of Morris  [Social Media]',\n",
       "       'How did you hear about County College of Morris  [Community Event]',\n",
       "       'How did you hear about County College of Morris  [Family member or friend]',\n",
       "       'How did you hear about County College of Morris  [Employer]',\n",
       "       'How did you hear about County College of Morris  [Current student]',\n",
       "       'How did you hear about County College of Morris  [Alumni]',\n",
       "       'How did you hear about County College of Morris  [High School]',\n",
       "       'To what extent did the following impact your decision to attend County College of Morris? [Affordable cost]',\n",
       "       'To what extent did the following impact your decision to attend County College of Morris? [Location/convenience]',\n",
       "       'To what extent did the following impact your decision to attend County College of Morris? [Choice of programs]',\n",
       "       'To what extent did the following impact your decision to attend County College of Morris? [Online offerings]',\n",
       "       'To what extent did the following impact your decision to attend County College of Morris? [Family/friend referral]',\n",
       "       'To what extent did the following impact your decision to attend County College of Morris? [Faculty/staff]',\n",
       "       'To what extent did the following impact your decision to attend County College of Morris? [College reputation]',\n",
       "       'To what extent did the following impact your decision to attend County College of Morris? [Scholarships]',\n",
       "       'To what extent did the following impact your decision to attend County College of Morris? [Transfer student]',\n",
       "       'To what extent did the following impact your decision to attend County College of Morris? [Small class sizes]',\n",
       "       'To what extent did the following impact your decision to attend County College of Morris? [Extra curricula opportunities]',\n",
       "       'What degree program are you currently enrolled in?',\n",
       "       'Did you receive information about our computing course from any of the following sources? [High school guidance counselor]',\n",
       "       'Did you receive information about our computing course from any of the following sources? [CCM Information Technologies Website]',\n",
       "       'Did you receive information about our computing course from any of the following sources? [CCM Admissions]',\n",
       "       'Did you receive information about our computing course from any of the following sources? [CCM advisor/counselor]',\n",
       "       'Did you receive information about our computing course from any of the following sources? [Employer]',\n",
       "       'Did you receive information about our computing course from any of the following sources? [Other]',\n",
       "       'On a scale of 1 to 5, with 1 being not at all interested and 5 being extremely interested, how interested are you taking more courses in Computer Science, Information Technology or Game Development?',\n",
       "       'If you answered that you were interested in taking more computing classes, which ones interest you most? [Web Development]',\n",
       "       'If you answered that you were interested in taking more computing classes, which ones interest you most? [CyberSecurity]',\n",
       "       'If you answered that you were interested in taking more computing classes, which ones interest you most? [App Development]',\n",
       "       'If you answered that you were interested in taking more computing classes, which ones interest you most? [Data Analytics]',\n",
       "       'If you answered that you were interested in taking more computing classes, which ones interest you most? [Machine Learning/Artificial Intelligence]',\n",
       "       'If you answered that you were interested in taking more computing classes, which ones interest you most? [Computer Programming]',\n",
       "       'If you answered that you were interested in taking more computing classes, which ones interest you most? [Game Design]',\n",
       "       'If you answered that you were interested in taking more computing classes, which ones interest you most? [Hardware Installation & Repair]',\n",
       "       'Gender', 'Race/ethnicity', 'Age '],\n",
       "      dtype='object')"
      ]
     },
     "execution_count": 9,
     "metadata": {},
     "output_type": "execute_result"
    }
   ],
   "source": [
    "df.columns"
   ]
  },
  {
   "cell_type": "code",
   "execution_count": 10,
   "id": "88ba3f08-b3eb-46bd-b84d-103df6704ecb",
   "metadata": {
    "panel-layout": {
     "height": 27.140625,
     "visible": true,
     "width": 100
    }
   },
   "outputs": [
    {
     "data": {
      "text/plain": [
       "(92, 71)"
      ]
     },
     "execution_count": 10,
     "metadata": {},
     "output_type": "execute_result"
    }
   ],
   "source": [
    "df.shape"
   ]
  },
  {
   "cell_type": "code",
   "execution_count": 11,
   "id": "56b0e32a-9251-4721-a16c-4e04c4ca68a1",
   "metadata": {
    "panel-layout": {
     "height": 1991.5,
     "visible": true,
     "width": 100
    }
   },
   "outputs": [
    {
     "data": {
      "text/plain": [
       "Timestamp                                                                                                                                    object\n",
       "Which course are you currently enrolled in?                                                                                                  object\n",
       "What motivated you to seek a computing class at CCM? [It’s a required class for the degree I’m seeking]                                      object\n",
       "What motivated you to seek a computing class at CCM? [To keep current in computing skills]                                                   object\n",
       "What motivated you to seek a computing class at CCM? [Career Advancement]                                                                    object\n",
       "                                                                                                                                              ...  \n",
       "If you answered that you were interested in taking more computing classes, which ones interest you most? [Game Design]                       object\n",
       "If you answered that you were interested in taking more computing classes, which ones interest you most? [Hardware Installation & Repair]    object\n",
       "Gender                                                                                                                                       object\n",
       "Race/ethnicity                                                                                                                               object\n",
       "Age                                                                                                                                          object\n",
       "Length: 71, dtype: object"
      ]
     },
     "execution_count": 11,
     "metadata": {},
     "output_type": "execute_result"
    }
   ],
   "source": [
    "df.dtypes"
   ]
  },
  {
   "cell_type": "code",
   "execution_count": 12,
   "id": "b0be7b5d-fa9d-451f-9a59-3cc173738042",
   "metadata": {
    "panel-layout": {
     "height": 455.5,
     "visible": true,
     "width": 100
    }
   },
   "outputs": [
    {
     "data": {
      "text/html": [
       "<div>\n",
       "<style scoped>\n",
       "    .dataframe tbody tr th:only-of-type {\n",
       "        vertical-align: middle;\n",
       "    }\n",
       "\n",
       "    .dataframe tbody tr th {\n",
       "        vertical-align: top;\n",
       "    }\n",
       "\n",
       "    .dataframe thead th {\n",
       "        text-align: right;\n",
       "    }\n",
       "</style>\n",
       "<table border=\"1\" class=\"dataframe\">\n",
       "  <thead>\n",
       "    <tr style=\"text-align: right;\">\n",
       "      <th></th>\n",
       "      <th>Timestamp</th>\n",
       "      <th>Which course are you currently enrolled in?</th>\n",
       "      <th>What motivated you to seek a computing class at CCM? [It’s a required class for the degree I’m seeking]</th>\n",
       "      <th>What motivated you to seek a computing class at CCM? [To keep current in computing skills]</th>\n",
       "      <th>What motivated you to seek a computing class at CCM? [Career Advancement]</th>\n",
       "      <th>What motivated you to seek a computing class at CCM? [Career Change]</th>\n",
       "      <th>What motivated you to seek a computing class at CCM? [Professional Development]</th>\n",
       "      <th>What motivated you to seek a computing class at CCM? [Job Displacement]</th>\n",
       "      <th>What motivated you to seek a computing class at CCM? [Relocation]</th>\n",
       "      <th>What motivated you to seek a computing class at CCM? [IT Industry Certifications]</th>\n",
       "      <th>...</th>\n",
       "      <th>If you answered that you were interested in taking more computing classes, which ones interest you most? [CyberSecurity]</th>\n",
       "      <th>If you answered that you were interested in taking more computing classes, which ones interest you most? [App Development]</th>\n",
       "      <th>If you answered that you were interested in taking more computing classes, which ones interest you most? [Data Analytics]</th>\n",
       "      <th>If you answered that you were interested in taking more computing classes, which ones interest you most? [Machine Learning/Artificial Intelligence]</th>\n",
       "      <th>If you answered that you were interested in taking more computing classes, which ones interest you most? [Computer Programming]</th>\n",
       "      <th>If you answered that you were interested in taking more computing classes, which ones interest you most? [Game Design]</th>\n",
       "      <th>If you answered that you were interested in taking more computing classes, which ones interest you most? [Hardware Installation &amp; Repair]</th>\n",
       "      <th>Gender</th>\n",
       "      <th>Race/ethnicity</th>\n",
       "      <th>Age</th>\n",
       "    </tr>\n",
       "  </thead>\n",
       "  <tbody>\n",
       "    <tr>\n",
       "      <th>90</th>\n",
       "      <td>2024/09/21 5:06:23 PM AST</td>\n",
       "      <td>CMP 101 Computer Information Literacy</td>\n",
       "      <td>No</td>\n",
       "      <td>Yes</td>\n",
       "      <td>No</td>\n",
       "      <td>No</td>\n",
       "      <td>No</td>\n",
       "      <td>No</td>\n",
       "      <td>No</td>\n",
       "      <td>No</td>\n",
       "      <td>...</td>\n",
       "      <td>No</td>\n",
       "      <td>No</td>\n",
       "      <td>No</td>\n",
       "      <td>No</td>\n",
       "      <td>No</td>\n",
       "      <td>No</td>\n",
       "      <td>No</td>\n",
       "      <td>Man</td>\n",
       "      <td>Hispanic or Latino</td>\n",
       "      <td>19-20</td>\n",
       "    </tr>\n",
       "  </tbody>\n",
       "</table>\n",
       "<p>1 rows × 71 columns</p>\n",
       "</div>"
      ],
      "text/plain": [
       "                    Timestamp Which course are you currently enrolled in?  \\\n",
       "90  2024/09/21 5:06:23 PM AST       CMP 101 Computer Information Literacy   \n",
       "\n",
       "   What motivated you to seek a computing class at CCM? [It’s a required class for the degree I’m seeking]  \\\n",
       "90                                                 No                                                        \n",
       "\n",
       "   What motivated you to seek a computing class at CCM? [To keep current in computing skills]  \\\n",
       "90                                                Yes                                           \n",
       "\n",
       "   What motivated you to seek a computing class at CCM? [Career Advancement]  \\\n",
       "90                                                 No                          \n",
       "\n",
       "   What motivated you to seek a computing class at CCM? [Career Change]  \\\n",
       "90                                                 No                     \n",
       "\n",
       "   What motivated you to seek a computing class at CCM? [Professional Development]  \\\n",
       "90                                                 No                                \n",
       "\n",
       "   What motivated you to seek a computing class at CCM? [Job Displacement]  \\\n",
       "90                                                 No                        \n",
       "\n",
       "   What motivated you to seek a computing class at CCM? [Relocation]  \\\n",
       "90                                                 No                  \n",
       "\n",
       "   What motivated you to seek a computing class at CCM? [IT Industry Certifications]  \\\n",
       "90                                                 No                                  \n",
       "\n",
       "    ...  \\\n",
       "90  ...   \n",
       "\n",
       "   If you answered that you were interested in taking more computing classes, which ones interest you most? [CyberSecurity]  \\\n",
       "90                                                 No                                                                         \n",
       "\n",
       "   If you answered that you were interested in taking more computing classes, which ones interest you most? [App Development]  \\\n",
       "90                                                 No                                                                           \n",
       "\n",
       "   If you answered that you were interested in taking more computing classes, which ones interest you most? [Data Analytics]  \\\n",
       "90                                                 No                                                                          \n",
       "\n",
       "   If you answered that you were interested in taking more computing classes, which ones interest you most? [Machine Learning/Artificial Intelligence]  \\\n",
       "90                                                 No                                                                                                    \n",
       "\n",
       "   If you answered that you were interested in taking more computing classes, which ones interest you most? [Computer Programming]  \\\n",
       "90                                                 No                                                                                \n",
       "\n",
       "   If you answered that you were interested in taking more computing classes, which ones interest you most? [Game Design]  \\\n",
       "90                                                 No                                                                       \n",
       "\n",
       "   If you answered that you were interested in taking more computing classes, which ones interest you most? [Hardware Installation & Repair]  \\\n",
       "90                                                 No                                                                                          \n",
       "\n",
       "   Gender      Race/ethnicity   Age   \n",
       "90    Man  Hispanic or Latino  19-20  \n",
       "\n",
       "[1 rows x 71 columns]"
      ]
     },
     "execution_count": 12,
     "metadata": {},
     "output_type": "execute_result"
    }
   ],
   "source": [
    "df.sample()"
   ]
  },
  {
   "cell_type": "code",
   "execution_count": 13,
   "id": "aab71d21-42f3-4ded-a5be-a486bcc9b81e",
   "metadata": {
    "panel-layout": {
     "height": 0,
     "visible": true,
     "width": 100
    }
   },
   "outputs": [
    {
     "name": "stdout",
     "output_type": "stream",
     "text": [
      "<class 'pandas.core.frame.DataFrame'>\n",
      "RangeIndex: 92 entries, 0 to 91\n",
      "Data columns (total 71 columns):\n",
      " #   Column                                                                                                                                                                                                                                           Non-Null Count  Dtype \n",
      "---  ------                                                                                                                                                                                                                                           --------------  ----- \n",
      " 0   Timestamp                                                                                                                                                                                                                                        92 non-null     object\n",
      " 1   Which course are you currently enrolled in?                                                                                                                                                                                                      92 non-null     object\n",
      " 2   What motivated you to seek a computing class at CCM? [It’s a required class for the degree I’m seeking]                                                                                                                                          92 non-null     object\n",
      " 3   What motivated you to seek a computing class at CCM? [To keep current in computing skills]                                                                                                                                                       92 non-null     object\n",
      " 4   What motivated you to seek a computing class at CCM? [Career Advancement]                                                                                                                                                                        92 non-null     object\n",
      " 5   What motivated you to seek a computing class at CCM? [Career Change]                                                                                                                                                                             92 non-null     object\n",
      " 6   What motivated you to seek a computing class at CCM? [Professional Development]                                                                                                                                                                  92 non-null     object\n",
      " 7   What motivated you to seek a computing class at CCM? [Job Displacement]                                                                                                                                                                          92 non-null     object\n",
      " 8   What motivated you to seek a computing class at CCM? [Relocation]                                                                                                                                                                                92 non-null     object\n",
      " 9   What motivated you to seek a computing class at CCM? [IT Industry Certifications]                                                                                                                                                                92 non-null     object\n",
      " 10  What motivated you to seek a computing class at CCM? [Financial]                                                                                                                                                                                 92 non-null     object\n",
      " 11  What motivated you to seek a computing class at CCM? [Personal Enrichment]                                                                                                                                                                       92 non-null     object\n",
      " 12  What motivated you to seek a computing class at CCM? [Curiosity]                                                                                                                                                                                 92 non-null     object\n",
      " 13  Prior to applying to college, did you participate in any of the following events or activities at the County College of Morris and/or with the Department of Information Technologies, if at all? [Open House]                                   92 non-null     object\n",
      " 14  Prior to applying to college, did you participate in any of the following events or activities at the County College of Morris and/or with the Department of Information Technologies, if at all? [Instant Decision Day]                         92 non-null     object\n",
      " 15  Prior to applying to college, did you participate in any of the following events or activities at the County College of Morris and/or with the Department of Information Technologies, if at all? [On-Campus Information Session]                92 non-null     object\n",
      " 16  Prior to applying to college, did you participate in any of the following events or activities at the County College of Morris and/or with the Department of Information Technologies, if at all? [TItan's Tuesday Virtual Information Session]  92 non-null     object\n",
      " 17  Prior to applying to college, did you participate in any of the following events or activities at the County College of Morris and/or with the Department of Information Technologies, if at all? [Women Who Dare]                               92 non-null     object\n",
      " 18  Prior to applying to college, did you participate in any of the following events or activities at the County College of Morris and/or with the Department of Information Technologies, if at all? [Regional College Fair]                        92 non-null     object\n",
      " 19  To what extent did the following activities or experience impact your decision to enroll in an computing course at CCM? [Middle/High school computing class]                                                                                     87 non-null     object\n",
      " 20  To what extent did the following activities or experience impact your decision to enroll in an computing course at CCM? [Middle/High school computing related club]                                                                              78 non-null     object\n",
      " 21  To what extent did the following activities or experience impact your decision to enroll in an computing course at CCM? [Computing-related competitions (e.g., Robotics competition, Lego competition, Cybersecurity, Programming)]              80 non-null     object\n",
      " 22  To what extent did the following activities or experience impact your decision to enroll in an computing course at CCM? [Afterschool computing-related camp/program]                                                                             75 non-null     object\n",
      " 23  To what extent did the following activities or experience impact your decision to enroll in an computing course at CCM? [Summer computing related camp/program]                                                                                  76 non-null     object\n",
      " 24  To what extent did the following activities or experience impact your decision to enroll in an computing course at CCM? [An AP computing class]                                                                                                  76 non-null     object\n",
      " 25  To what extent did the following activities or experience impact your decision to enroll in an computing course at CCM? [A dual enrollment computing class]                                                                                      76 non-null     object\n",
      " 26  To what extent did the following activities or experience impact your decision to enroll in an computing course at CCM? [Family or friend influence]                                                                                             80 non-null     object\n",
      " 27  To what extent did the following activities or experience impact your decision to enroll in an computing course at CCM? [Family or friend working in the computing field]                                                                        78 non-null     object\n",
      " 28  To what extent did the following activities or experience impact your decision to enroll in an computing course at CCM? [High school teacher or guidance counselor]                                                                              77 non-null     object\n",
      " 29  To what extent did the following activities or experience impact your decision to enroll in an computing course at CCM? [Employer influence]                                                                                                     79 non-null     object\n",
      " 30  How did you hear about County College of Morris  [CCM Web site]                                                                                                                                                                                  92 non-null     object\n",
      " 31  How did you hear about County College of Morris  [Billboard]                                                                                                                                                                                     92 non-null     object\n",
      " 32  How did you hear about County College of Morris  [Television]                                                                                                                                                                                    92 non-null     object\n",
      " 33  How did you hear about County College of Morris  [Radio]                                                                                                                                                                                         92 non-null     object\n",
      " 34  How did you hear about County College of Morris  [Social Media]                                                                                                                                                                                  92 non-null     object\n",
      " 35  How did you hear about County College of Morris  [Community Event]                                                                                                                                                                               92 non-null     object\n",
      " 36  How did you hear about County College of Morris  [Family member or friend]                                                                                                                                                                       92 non-null     object\n",
      " 37  How did you hear about County College of Morris  [Employer]                                                                                                                                                                                      92 non-null     object\n",
      " 38  How did you hear about County College of Morris  [Current student]                                                                                                                                                                               92 non-null     object\n",
      " 39  How did you hear about County College of Morris  [Alumni]                                                                                                                                                                                        92 non-null     object\n",
      " 40  How did you hear about County College of Morris  [High School]                                                                                                                                                                                   92 non-null     object\n",
      " 41  To what extent did the following impact your decision to attend County College of Morris? [Affordable cost]                                                                                                                                      89 non-null     object\n",
      " 42  To what extent did the following impact your decision to attend County College of Morris? [Location/convenience]                                                                                                                                 91 non-null     object\n",
      " 43  To what extent did the following impact your decision to attend County College of Morris? [Choice of programs]                                                                                                                                   89 non-null     object\n",
      " 44  To what extent did the following impact your decision to attend County College of Morris? [Online offerings]                                                                                                                                     87 non-null     object\n",
      " 45  To what extent did the following impact your decision to attend County College of Morris? [Family/friend referral]                                                                                                                               86 non-null     object\n",
      " 46  To what extent did the following impact your decision to attend County College of Morris? [Faculty/staff]                                                                                                                                        82 non-null     object\n",
      " 47  To what extent did the following impact your decision to attend County College of Morris? [College reputation]                                                                                                                                   86 non-null     object\n",
      " 48  To what extent did the following impact your decision to attend County College of Morris? [Scholarships]                                                                                                                                         84 non-null     object\n",
      " 49  To what extent did the following impact your decision to attend County College of Morris? [Transfer student]                                                                                                                                     83 non-null     object\n",
      " 50  To what extent did the following impact your decision to attend County College of Morris? [Small class sizes]                                                                                                                                    86 non-null     object\n",
      " 51  To what extent did the following impact your decision to attend County College of Morris? [Extra curricula opportunities]                                                                                                                        83 non-null     object\n",
      " 52  What degree program are you currently enrolled in?                                                                                                                                                                                               92 non-null     object\n",
      " 53  Did you receive information about our computing course from any of the following sources? [High school guidance counselor]                                                                                                                       92 non-null     object\n",
      " 54  Did you receive information about our computing course from any of the following sources? [CCM Information Technologies Website]                                                                                                                 92 non-null     object\n",
      " 55  Did you receive information about our computing course from any of the following sources? [CCM Admissions]                                                                                                                                       92 non-null     object\n",
      " 56  Did you receive information about our computing course from any of the following sources? [CCM advisor/counselor]                                                                                                                                92 non-null     object\n",
      " 57  Did you receive information about our computing course from any of the following sources? [Employer]                                                                                                                                             92 non-null     object\n",
      " 58  Did you receive information about our computing course from any of the following sources? [Other]                                                                                                                                                92 non-null     object\n",
      " 59  On a scale of 1 to 5, with 1 being not at all interested and 5 being extremely interested, how interested are you taking more courses in Computer Science, Information Technology or Game Development?                                           92 non-null     int64 \n",
      " 60  If you answered that you were interested in taking more computing classes, which ones interest you most? [Web Development]                                                                                                                       92 non-null     object\n",
      " 61  If you answered that you were interested in taking more computing classes, which ones interest you most? [CyberSecurity]                                                                                                                         92 non-null     object\n",
      " 62  If you answered that you were interested in taking more computing classes, which ones interest you most? [App Development]                                                                                                                       92 non-null     object\n",
      " 63  If you answered that you were interested in taking more computing classes, which ones interest you most? [Data Analytics]                                                                                                                        92 non-null     object\n",
      " 64  If you answered that you were interested in taking more computing classes, which ones interest you most? [Machine Learning/Artificial Intelligence]                                                                                              92 non-null     object\n",
      " 65  If you answered that you were interested in taking more computing classes, which ones interest you most? [Computer Programming]                                                                                                                  92 non-null     object\n",
      " 66  If you answered that you were interested in taking more computing classes, which ones interest you most? [Game Design]                                                                                                                           92 non-null     object\n",
      " 67  If you answered that you were interested in taking more computing classes, which ones interest you most? [Hardware Installation & Repair]                                                                                                        92 non-null     object\n",
      " 68  Gender                                                                                                                                                                                                                                           92 non-null     object\n",
      " 69  Race/ethnicity                                                                                                                                                                                                                                   92 non-null     object\n",
      " 70  Age                                                                                                                                                                                                                                              92 non-null     object\n",
      "dtypes: int64(1), object(70)\n",
      "memory usage: 51.2+ KB\n"
     ]
    }
   ],
   "source": [
    "df.info()"
   ]
  },
  {
   "cell_type": "markdown",
   "id": "b1852720-8374-4a02-a1cd-8855c795af95",
   "metadata": {
    "panel-layout": {
     "height": 84.484375,
     "visible": true,
     "width": 100
    }
   },
   "source": [
    "***\n",
    "## 2. Removing Unnecessary Columns \n",
    "#### Removing columns that are not relevent to my specific questions/important for this study."
   ]
  },
  {
   "cell_type": "markdown",
   "id": "4d5ec51b-fed0-40cf-93a4-62f6be71d36d",
   "metadata": {
    "panel-layout": {
     "height": 340.484375,
     "visible": true,
     "width": 100
    }
   },
   "source": [
    "***\n",
    "#### ***Citation: Internet Use*** \n",
    "\n",
    "##### Syntax Error: \n",
    "Cell In[116], line 6\n",
    "    \"Prior to applying to college, did you participate in any of the following events or activities at the County College of Morris and/or with the Department of Information Technologies, if at all? [TItan\"s Tuesday Virtual Information Session]\",\n",
    "                                                                                                                                                                                                                                                 ^\n",
    "SyntaxError: unterminated string literal (detected at line 6)\n",
    "\n",
    "##### Source Used: \n",
    "https://dev.to/lavary/how-to-fix-syntaxerror-unterminated-string-literal-in-python-251o#:~:text=Missing%20the%20closing%20quotation%20mark%3A%20The%20most%20common%20reason%20behind,double%2C%20or%20triple%20quotation%20mark.\n",
    "\n",
    "##### Changes: \n",
    "\n",
    "1.) Changed code to: [TItan\\\"s Tuesday Virtual Information Session]\" to avoid the quotation marks causing syntax error. Although I understood the problem from the syntax error, I forgot how to fix the issue in Python. Searched Google with the syntax error code and opened first link. (seemed reliable, community forum for developers)\n",
    "\n",
    "2.) Ended up still getting a KeyError with the corrected change that the column was not found in the axis. Renamed column name before removal since it is being removed from the dataset anyway.\n",
    "***"
   ]
  },
  {
   "cell_type": "code",
   "execution_count": 16,
   "id": "74768e9a-d860-4d63-afcc-1f1f2ba7a669",
   "metadata": {
    "panel-layout": {
     "height": 0,
     "visible": true,
     "width": 100
    }
   },
   "outputs": [
    {
     "name": "stdout",
     "output_type": "stream",
     "text": [
      "<class 'pandas.core.frame.DataFrame'>\n",
      "RangeIndex: 92 entries, 0 to 91\n",
      "Data columns (total 25 columns):\n",
      " #   Column                                                                                                                                                                                                  Non-Null Count  Dtype \n",
      "---  ------                                                                                                                                                                                                  --------------  ----- \n",
      " 0   Which course are you currently enrolled in?                                                                                                                                                             92 non-null     object\n",
      " 1   What motivated you to seek a computing class at CCM? [It’s a required class for the degree I’m seeking]                                                                                                 92 non-null     object\n",
      " 2   What motivated you to seek a computing class at CCM? [To keep current in computing skills]                                                                                                              92 non-null     object\n",
      " 3   What motivated you to seek a computing class at CCM? [Career Advancement]                                                                                                                               92 non-null     object\n",
      " 4   What motivated you to seek a computing class at CCM? [Career Change]                                                                                                                                    92 non-null     object\n",
      " 5   What motivated you to seek a computing class at CCM? [Professional Development]                                                                                                                         92 non-null     object\n",
      " 6   What motivated you to seek a computing class at CCM? [Job Displacement]                                                                                                                                 92 non-null     object\n",
      " 7   What motivated you to seek a computing class at CCM? [Relocation]                                                                                                                                       92 non-null     object\n",
      " 8   What motivated you to seek a computing class at CCM? [IT Industry Certifications]                                                                                                                       92 non-null     object\n",
      " 9   What motivated you to seek a computing class at CCM? [Financial]                                                                                                                                        92 non-null     object\n",
      " 10  What motivated you to seek a computing class at CCM? [Personal Enrichment]                                                                                                                              92 non-null     object\n",
      " 11  What motivated you to seek a computing class at CCM? [Curiosity]                                                                                                                                        92 non-null     object\n",
      " 12  What degree program are you currently enrolled in?                                                                                                                                                      92 non-null     object\n",
      " 13  On a scale of 1 to 5, with 1 being not at all interested and 5 being extremely interested, how interested are you taking more courses in Computer Science, Information Technology or Game Development?  92 non-null     int64 \n",
      " 14  If you answered that you were interested in taking more computing classes, which ones interest you most? [Web Development]                                                                              92 non-null     object\n",
      " 15  If you answered that you were interested in taking more computing classes, which ones interest you most? [CyberSecurity]                                                                                92 non-null     object\n",
      " 16  If you answered that you were interested in taking more computing classes, which ones interest you most? [App Development]                                                                              92 non-null     object\n",
      " 17  If you answered that you were interested in taking more computing classes, which ones interest you most? [Data Analytics]                                                                               92 non-null     object\n",
      " 18  If you answered that you were interested in taking more computing classes, which ones interest you most? [Machine Learning/Artificial Intelligence]                                                     92 non-null     object\n",
      " 19  If you answered that you were interested in taking more computing classes, which ones interest you most? [Computer Programming]                                                                         92 non-null     object\n",
      " 20  If you answered that you were interested in taking more computing classes, which ones interest you most? [Game Design]                                                                                  92 non-null     object\n",
      " 21  If you answered that you were interested in taking more computing classes, which ones interest you most? [Hardware Installation & Repair]                                                               92 non-null     object\n",
      " 22  Gender                                                                                                                                                                                                  92 non-null     object\n",
      " 23  Race/ethnicity                                                                                                                                                                                          92 non-null     object\n",
      " 24  Age                                                                                                                                                                                                     92 non-null     object\n",
      "dtypes: int64(1), object(24)\n",
      "memory usage: 18.1+ KB\n"
     ]
    }
   ],
   "source": [
    "#renaming column causing errors\n",
    "df.rename(columns={\n",
    "    \"Prior to applying to college, did you participate in any of the following events or activities at the County College of Morris and/or with the Department of Information Technologies, if at all? [TItan's Tuesday Virtual Information Session]\":\n",
    "    \"Prior to applying to college, did you participate in any of the following events or activities at the County College of Morris and/or with the Department of Information Technologies, if at all? [Titan Tuesday Virtual Information Session]\"\n",
    "}, inplace=True)\n",
    "\n",
    "#columns to be removed\n",
    "remove = [\n",
    "    \"Timestamp\",\n",
    "    \"Prior to applying to college, did you participate in any of the following events or activities at the County College of Morris and/or with the Department of Information Technologies, if at all? [Open House]\",\n",
    "    \"Prior to applying to college, did you participate in any of the following events or activities at the County College of Morris and/or with the Department of Information Technologies, if at all? [Instant Decision Day]\",\n",
    "    \"Prior to applying to college, did you participate in any of the following events or activities at the County College of Morris and/or with the Department of Information Technologies, if at all? [On-Campus Information Session]\",\n",
    "    \"Prior to applying to college, did you participate in any of the following events or activities at the County College of Morris and/or with the Department of Information Technologies, if at all? [Titan Tuesday Virtual Information Session]\",    \n",
    "    \"Prior to applying to college, did you participate in any of the following events or activities at the County College of Morris and/or with the Department of Information Technologies, if at all? [Women Who Dare]\",\n",
    "    \"Prior to applying to college, did you participate in any of the following events or activities at the County College of Morris and/or with the Department of Information Technologies, if at all? [Regional College Fair]\",\n",
    "    \"To what extent did the following activities or experience impact your decision to enroll in an computing course at CCM? [Middle/High school computing class]\",\n",
    "    \"To what extent did the following activities or experience impact your decision to enroll in an computing course at CCM? [Middle/High school computing related club]\",\n",
    "    \"To what extent did the following activities or experience impact your decision to enroll in an computing course at CCM? [Computing-related competitions (e.g., Robotics competition, Lego competition, Cybersecurity, Programming)]\",\n",
    "    \"To what extent did the following activities or experience impact your decision to enroll in an computing course at CCM? [Afterschool computing-related camp/program]\",\n",
    "    \"To what extent did the following activities or experience impact your decision to enroll in an computing course at CCM? [Summer computing related camp/program]\",\n",
    "    \"To what extent did the following activities or experience impact your decision to enroll in an computing course at CCM? [An AP computing class]\",\n",
    "    \"To what extent did the following activities or experience impact your decision to enroll in an computing course at CCM? [A dual enrollment computing class]\",\n",
    "    \"To what extent did the following activities or experience impact your decision to enroll in an computing course at CCM? [Family or friend influence]\",\n",
    "    \"To what extent did the following activities or experience impact your decision to enroll in an computing course at CCM? [Family or friend working in the computing field]\",\n",
    "    \"To what extent did the following activities or experience impact your decision to enroll in an computing course at CCM? [High school teacher or guidance counselor]\",\n",
    "    \"To what extent did the following activities or experience impact your decision to enroll in an computing course at CCM? [Employer influence]\",\n",
    "    \"How did you hear about County College of Morris  [CCM Web site]\",\n",
    "    \"How did you hear about County College of Morris  [Billboard]\",\n",
    "    \"How did you hear about County College of Morris  [Television]\",\n",
    "    \"How did you hear about County College of Morris  [Radio]\",\n",
    "    \"How did you hear about County College of Morris  [Social Media]\",\n",
    "    \"How did you hear about County College of Morris  [Community Event]\",\n",
    "    \"How did you hear about County College of Morris  [Family member or friend]\",\n",
    "    \"How did you hear about County College of Morris  [Employer]\",\n",
    "    \"How did you hear about County College of Morris  [Current student]\",\n",
    "    \"How did you hear about County College of Morris  [Alumni]\",\n",
    "    \"How did you hear about County College of Morris  [High School]\",\n",
    "    \"To what extent did the following impact your decision to attend County College of Morris? [Affordable cost]\",\n",
    "    \"To what extent did the following impact your decision to attend County College of Morris? [Location/convenience]\",\n",
    "    \"To what extent did the following impact your decision to attend County College of Morris? [Choice of programs]\",\n",
    "    \"To what extent did the following impact your decision to attend County College of Morris? [Online offerings]\",\n",
    "    \"To what extent did the following impact your decision to attend County College of Morris? [Family/friend referral]\",\n",
    "    \"To what extent did the following impact your decision to attend County College of Morris? [Faculty/staff]\",\n",
    "    \"To what extent did the following impact your decision to attend County College of Morris? [College reputation]\",\n",
    "    \"To what extent did the following impact your decision to attend County College of Morris? [Scholarships]\",\n",
    "    \"To what extent did the following impact your decision to attend County College of Morris? [Transfer student]\",\n",
    "    \"To what extent did the following impact your decision to attend County College of Morris? [Small class sizes]\",\n",
    "    \"To what extent did the following impact your decision to attend County College of Morris? [Extra curricula opportunities]\",\n",
    "    \"Did you receive information about our computing course from any of the following sources? [High school guidance counselor]\",\n",
    "    \"Did you receive information about our computing course from any of the following sources? [CCM Information Technologies Website]\",\n",
    "    \"Did you receive information about our computing course from any of the following sources? [CCM Admissions]\",\n",
    "    \"Did you receive information about our computing course from any of the following sources? [CCM advisor/counselor]\",\n",
    "    \"Did you receive information about our computing course from any of the following sources? [Employer]\",\n",
    "    \"Did you receive information about our computing course from any of the following sources? [Other]\"\n",
    "]\n",
    "\n",
    "#removing columns and displaying new dataset\n",
    "df_clean = df.drop(columns=remove)\n",
    "df_clean.info()"
   ]
  },
  {
   "cell_type": "markdown",
   "id": "1e33aa76-f61d-4237-a3dd-0876824e8958",
   "metadata": {
    "panel-layout": {
     "height": 84.484375,
     "visible": true,
     "width": 100
    }
   },
   "source": [
    "***\n",
    "## 3.) Cleaning Remaining Column Names \n",
    "#### Renaming columns to a single, lower-case word and adding underscores if necessary."
   ]
  },
  {
   "cell_type": "code",
   "execution_count": 18,
   "id": "ebc42f9f-b3dc-40e4-b3a6-a84c723a0004",
   "metadata": {
    "panel-layout": {
     "height": 0,
     "visible": true,
     "width": 100
    }
   },
   "outputs": [],
   "source": [
    "# removing spaces and converting to lower-case \n",
    "df_clean.columns =  (\n",
    "    df_clean.columns.str.lower() \n",
    "    .str.replace(\" \", \"_\"))\n",
    "\n",
    "#\n",
    "df_clean.rename(columns={\n",
    "    \n",
    "    \"which_course_are_you_currently_enrolled_in?\":\"course\",\n",
    "    \"what_motivated_you_to_seek_a_computing_class_at_ccm?_[it’s_a_required_class_for_the_degree_i’m_seeking]\":\"motiv_degree_req\",\n",
    "    \"what_motivated_you_to_seek_a_computing_class_at_ccm?_[to_keep_current_in_computing_skills]\":\"motiv_comp_skills\",\n",
    "    \"what_motivated_you_to_seek_a_computing_class_at_ccm?_[career_advancement]\":\"motiv_career_adv\",\n",
    "    \"what_motivated_you_to_seek_a_computing_class_at_ccm?_[career_change]\":\"motiv_career_change\",\n",
    "    \"what_motivated_you_to_seek_a_computing_class_at_ccm?_[professional_development]\":\"motiv_prof_dev\",\n",
    "    \"what_motivated_you_to_seek_a_computing_class_at_ccm?_[job_displacement]\":\"motiv_job_displace\",\n",
    "    \"what_motivated_you_to_seek_a_computing_class_at_ccm?_[relocation]\":\"motiv_reolocation\",\n",
    "    \"what_motivated_you_to_seek_a_computing_class_at_ccm?_[it_industry_certifications]\":\"motiv_certif\",\n",
    "    \"what_motivated_you_to_seek_a_computing_class_at_ccm?_[financial]\":\"motiv_financial\",\n",
    "    \"what_motivated_you_to_seek_a_computing_class_at_ccm?_[personal_enrichment]\":\"motiv_personal\",\n",
    "    \"what_motivated_you_to_seek_a_computing_class_at_ccm?_[curiosity]\":\"motiv_curiosity\",\n",
    "    \"what_degree_program_are_you_currently_enrolled_in?\":\"major\",\n",
    "    \"on_a_scale_of_1_to_5,_with_1_being_not_at_all_interested_and_5_being_extremely_interested,_how_interested_are_you_taking_more_courses_in_computer_science,_information_technology_or_game_development?\":\"interest_level\",\n",
    "    \"if_you_answered_that_you_were_interested_in_taking_more_computing_classes,_which_ones_interest_you_most?_[web_development]\":\"interest_web_dev\",\n",
    "    \"if_you_answered_that_you_were_interested_in_taking_more_computing_classes,_which_ones_interest_you_most?_[cybersecurity]\":\"interest_cybersecurity\",\n",
    "    \"if_you_answered_that_you_were_interested_in_taking_more_computing_classes,_which_ones_interest_you_most?_[app_development]\":\"interest_app_dev\", \n",
    "    \"if_you_answered_that_you_were_interested_in_taking_more_computing_classes,_which_ones_interest_you_most?_[data_analytics]\":\"interest_data_analytics\",\n",
    "    \"if_you_answered_that_you_were_interested_in_taking_more_computing_classes,_which_ones_interest_you_most?_[machine_learning/artificial_intelligence]\":\"interest_ML_AI\",\n",
    "    \"if_you_answered_that_you_were_interested_in_taking_more_computing_classes,_which_ones_interest_you_most?_[computer_programming]\":\"interest_comp_prog\",\n",
    "    \"if_you_answered_that_you_were_interested_in_taking_more_computing_classes,_which_ones_interest_you_most?_[game_design]\":\"interest_game_design\",\n",
    "    \"if_you_answered_that_you_were_interested_in_taking_more_computing_classes,_which_ones_interest_you_most?_[hardware_installation_&_repair]\":\"interest_hardware\",\n",
    "    \"race/ethnicity\":\"race_ethnicity\",\n",
    "    \"age_\":\"age\",\n",
    "    \n",
    "}, inplace=True)\n"
   ]
  },
  {
   "cell_type": "code",
   "execution_count": 19,
   "id": "010a4eab-f69b-4cd2-8d34-488e9f9dac34",
   "metadata": {
    "panel-layout": {
     "height": 0,
     "visible": true,
     "width": 100
    }
   },
   "outputs": [
    {
     "name": "stdout",
     "output_type": "stream",
     "text": [
      "<class 'pandas.core.frame.DataFrame'>\n",
      "RangeIndex: 92 entries, 0 to 91\n",
      "Data columns (total 25 columns):\n",
      " #   Column                   Non-Null Count  Dtype \n",
      "---  ------                   --------------  ----- \n",
      " 0   course                   92 non-null     object\n",
      " 1   motiv_degree_req         92 non-null     object\n",
      " 2   motiv_comp_skills        92 non-null     object\n",
      " 3   motiv_career_adv         92 non-null     object\n",
      " 4   motiv_career_change      92 non-null     object\n",
      " 5   motiv_prof_dev           92 non-null     object\n",
      " 6   motiv_job_displace       92 non-null     object\n",
      " 7   motiv_reolocation        92 non-null     object\n",
      " 8   motiv_certif             92 non-null     object\n",
      " 9   motiv_financial          92 non-null     object\n",
      " 10  motiv_personal           92 non-null     object\n",
      " 11  motiv_curiosity          92 non-null     object\n",
      " 12  major                    92 non-null     object\n",
      " 13  interest_level           92 non-null     int64 \n",
      " 14  interest_web_dev         92 non-null     object\n",
      " 15  interest_cybersecurity   92 non-null     object\n",
      " 16  interest_app_dev         92 non-null     object\n",
      " 17  interest_data_analytics  92 non-null     object\n",
      " 18  interest_ML_AI           92 non-null     object\n",
      " 19  interest_comp_prog       92 non-null     object\n",
      " 20  interest_game_design     92 non-null     object\n",
      " 21  interest_hardware        92 non-null     object\n",
      " 22  gender                   92 non-null     object\n",
      " 23  race_ethnicity           92 non-null     object\n",
      " 24  age                      92 non-null     object\n",
      "dtypes: int64(1), object(24)\n",
      "memory usage: 18.1+ KB\n"
     ]
    }
   ],
   "source": [
    "df_clean.info()"
   ]
  },
  {
   "cell_type": "markdown",
   "id": "04960587-5501-4fc5-b5e0-34030cddf158",
   "metadata": {
    "panel-layout": {
     "height": 84.484375,
     "visible": true,
     "width": 100
    }
   },
   "source": [
    "***\n",
    "## 4.) Cleaning And Condensing Redudant Columns\n",
    "#### cleaning certain values in the 'major' and 'race_ethnicity' columns to prepare for better analysis. "
   ]
  },
  {
   "cell_type": "markdown",
   "id": "683af403-972a-463b-9c55-7dcca0d63cfc",
   "metadata": {
    "panel-layout": {
     "height": 68.015625,
     "visible": true,
     "width": 100
    }
   },
   "source": [
    "### A.) Majors Column\n",
    "##### grouped together certain majors to eliminate outliers that fall into already mentions categories \n"
   ]
  },
  {
   "cell_type": "code",
   "execution_count": 22,
   "id": "a6971871-8a6a-4ca5-b914-46aa090cd8c3",
   "metadata": {
    "panel-layout": {
     "height": 147.125,
     "visible": true,
     "width": 100
    }
   },
   "outputs": [
    {
     "data": {
      "text/plain": [
       "array(['Liberal Arts', 'child psychology ',\n",
       "       'Broadcasting Arts and Technology', 'analyst', 'Journalism',\n",
       "       'Early Childhood Education', 'Nursing', 'Radiography',\n",
       "       'Exercise Science', 'Engineering Science', 'Music Technology',\n",
       "       'Nursing, but not at CCM - I am a visiting student ', 'Psychology',\n",
       "       'Criminal Justice', 'Not in a degree program', 'Biology',\n",
       "       'Culinary Arts and Sciences', 'History Education',\n",
       "       'Biology - Environmental Track', 'Communication',\n",
       "       'Child and Family Studies', 'Musical Theatre', 'Fire Science '],\n",
       "      dtype=object)"
      ]
     },
     "execution_count": 22,
     "metadata": {},
     "output_type": "execute_result"
    }
   ],
   "source": [
    "#unique values in major column before cleaning \n",
    "df_clean[\"major\"].unique()"
   ]
  },
  {
   "cell_type": "code",
   "execution_count": 23,
   "id": "40de35de-9a7c-4445-9010-c699fcded0ff",
   "metadata": {},
   "outputs": [],
   "source": [
    "#cleaning major column\n",
    "majors = {\n",
    "    \"Liberal Arts\": \"Liberal Arts\",\n",
    "    \"child psychology\": \"Psychology\",\n",
    "    \"Broadcasting Arts and Technology\": \"Broadcasting\",\n",
    "    \"analyst\": \"Business\",\n",
    "    \"Journalism\": \"Journalism\",\n",
    "    \"Early Childhood Education\": \"Education\",\n",
    "    \"Nursing\": \"Nursing\",\n",
    "    \"Radiography\": \"Radiography\",\n",
    "    \"Exercise Science\": \"Health Sciences\",\n",
    "    \"Engineering Science\": \"Engineering\",\n",
    "    \"Music Technology\": \"Music and Performing Arts\",\n",
    "    \"Nursing, but not at CCM - I am a visiting student\": \"Nursing\",\n",
    "    \"Psychology\": \"Psychology\",\n",
    "    \"Criminal Justice\": \"Criminal Justice\",\n",
    "    \"Not in a degree program\": \"Undecided\",\n",
    "    \"Biology\": \"Biology\",\n",
    "    \"Culinary Arts and Sciences\": \"Culinary Arts\",\n",
    "    \"History Education\": \"Education\",\n",
    "    \"Biology - Environmental Track\": \"Biology\",\n",
    "    \"Communication\": \"Media & Communication\",\n",
    "    \"Child and Family Studies\": \"Education\",\n",
    "    \"Musical Theatre\": \"Music and Performing Arts\",\n",
    "    \"Education\": \"Education\",\n",
    "    \"Fire Science\": \"Criminal Justice\",\n",
    "}\n",
    "\n",
    "\n",
    "#removing extra spaces\n",
    "df_clean[\"major\"] = df_clean[\"major\"].str.strip() \n",
    "\n",
    "df_clean[\"major\"] = df_clean[\"major\"].replace(majors)  \n"
   ]
  },
  {
   "cell_type": "code",
   "execution_count": 24,
   "id": "856ce8c2-b5b1-4787-9497-e2ba95c8858b",
   "metadata": {
    "panel-layout": {
     "height": 78.5625,
     "visible": true,
     "width": 100
    }
   },
   "outputs": [
    {
     "data": {
      "text/plain": [
       "array(['Liberal Arts', 'Psychology', 'Broadcasting', 'Business',\n",
       "       'Journalism', 'Education', 'Nursing', 'Radiography',\n",
       "       'Health Sciences', 'Engineering', 'Music and Performing Arts',\n",
       "       'Criminal Justice', 'Undecided', 'Biology', 'Culinary Arts',\n",
       "       'Media & Communication'], dtype=object)"
      ]
     },
     "execution_count": 24,
     "metadata": {},
     "output_type": "execute_result"
    }
   ],
   "source": [
    "#unique values in major column after cleaning \n",
    "df_clean[\"major\"].unique()\n"
   ]
  },
  {
   "cell_type": "markdown",
   "id": "4e9114ec-7d21-459c-9f7d-aa98a719a5b2",
   "metadata": {
    "panel-layout": {
     "height": 68.015625,
     "visible": true,
     "width": 100
    }
   },
   "source": [
    "### B.) Race/Ethnicity Column\n",
    "##### simplified race categories"
   ]
  },
  {
   "cell_type": "code",
   "execution_count": 26,
   "id": "26c049cc-241b-4edc-a3c5-62c44ef3c687",
   "metadata": {
    "panel-layout": {
     "height": 170,
     "visible": true,
     "width": 100
    }
   },
   "outputs": [
    {
     "data": {
      "text/plain": [
       "88    Hispanic or Latino\n",
       "65       White/Caucasian\n",
       "18    Hispanic or Latino\n",
       "72       White/Caucasian\n",
       "46    Hispanic or Latino\n",
       "Name: Race/ethnicity, dtype: object"
      ]
     },
     "execution_count": 26,
     "metadata": {},
     "output_type": "execute_result"
    }
   ],
   "source": [
    "#race/ethnicity column before cleaning\n",
    "df[\"Race/ethnicity\"].sample(5)"
   ]
  },
  {
   "cell_type": "code",
   "execution_count": 27,
   "id": "011283a9-5bf8-48e3-9ff0-4819caa5832a",
   "metadata": {},
   "outputs": [],
   "source": [
    "#cleaning race/ethnicity column\n",
    "race = {\n",
    "    \"Hispanic or Latino\": \"Hispanic\",\n",
    "    \"Black/African American\": \"Black\",\n",
    "    \"White/Caucasian\": \"White\",\n",
    "    \"Asian/Pacific Islander\": \"Asian\",\n",
    "    \"Other\": \"Other\"\n",
    "}\n",
    "\n",
    "for old_value, new_value in race.items():\n",
    "    df_clean[\"race_ethnicity\"] = df_clean[\"race_ethnicity\"].str.replace(old_value, new_value, regex=True)\n"
   ]
  },
  {
   "cell_type": "code",
   "execution_count": 28,
   "id": "221624d7-b68d-4042-b80f-e055d604cd63",
   "metadata": {
    "panel-layout": {
     "height": 170,
     "visible": true,
     "width": 100
    }
   },
   "outputs": [
    {
     "data": {
      "text/plain": [
       "72       White\n",
       "10       Asian\n",
       "76       White\n",
       "5        White\n",
       "56    Hispanic\n",
       "Name: race_ethnicity, dtype: object"
      ]
     },
     "execution_count": 28,
     "metadata": {},
     "output_type": "execute_result"
    }
   ],
   "source": [
    "#race/ethnicity column after cleaning\n",
    "df_clean[\"race_ethnicity\"].sample(5)"
   ]
  },
  {
   "cell_type": "markdown",
   "id": "cfcd924b-240b-4d99-8bb0-0f2745deac28",
   "metadata": {
    "panel-layout": {
     "height": 84.484375,
     "visible": true,
     "width": 100
    }
   },
   "source": [
    "***\n",
    "## 5.) Final Cleaned Dataset\n",
    "#### Saving new cleaned dataset as a new CSV file."
   ]
  },
  {
   "cell_type": "code",
   "execution_count": 30,
   "id": "2bc0cda4-2206-44c2-a59c-23189ea3944e",
   "metadata": {
    "panel-layout": {
     "height": 0,
     "visible": true,
     "width": 100
    }
   },
   "outputs": [],
   "source": [
    "df_clean.to_csv(\"CLEANED_Non-Majors Survey Results - Fall 2024.csv\", mode='w', index=False)"
   ]
  },
  {
   "cell_type": "markdown",
   "id": "5b306d9d-87d9-4eee-84bc-272f9a5294cf",
   "metadata": {
    "panel-layout": {
     "height": 24,
     "visible": true,
     "width": 100
    }
   },
   "source": [
    "***"
   ]
  }
 ],
 "metadata": {
  "kernelspec": {
   "display_name": "Python [conda env:base] *",
   "language": "python",
   "name": "conda-base-py"
  },
  "language_info": {
   "codemirror_mode": {
    "name": "ipython",
    "version": 3
   },
   "file_extension": ".py",
   "mimetype": "text/x-python",
   "name": "python",
   "nbconvert_exporter": "python",
   "pygments_lexer": "ipython3",
   "version": "3.12.7"
  },
  "panel-cell-order": [
   "c0170f13-b435-4c96-9143-cecfa7281002",
   "e30ca148-1177-459d-b0d1-bba0aebb4ce0",
   "629c9dbb-8aff-433f-b552-f543d0705593",
   "d962be80-c2dd-4c22-94b4-e50000aee4b9",
   "a7e07c7e-846e-42af-94dc-6eba4359cd78",
   "f7fa726a-70b7-4164-bca1-fb7be0632bed",
   "88ba3f08-b3eb-46bd-b84d-103df6704ecb",
   "56b0e32a-9251-4721-a16c-4e04c4ca68a1",
   "b0be7b5d-fa9d-451f-9a59-3cc173738042",
   "aab71d21-42f3-4ded-a5be-a486bcc9b81e",
   "b1852720-8374-4a02-a1cd-8855c795af95",
   "4d5ec51b-fed0-40cf-93a4-62f6be71d36d",
   "74768e9a-d860-4d63-afcc-1f1f2ba7a669",
   "1e33aa76-f61d-4237-a3dd-0876824e8958",
   "ebc42f9f-b3dc-40e4-b3a6-a84c723a0004",
   "010a4eab-f69b-4cd2-8d34-488e9f9dac34",
   "04960587-5501-4fc5-b5e0-34030cddf158",
   "683af403-972a-463b-9c55-7dcca0d63cfc",
   "a6971871-8a6a-4ca5-b914-46aa090cd8c3",
   "856ce8c2-b5b1-4787-9497-e2ba95c8858b",
   "4e9114ec-7d21-459c-9f7d-aa98a719a5b2",
   "26c049cc-241b-4edc-a3c5-62c44ef3c687",
   "221624d7-b68d-4042-b80f-e055d604cd63",
   "cfcd924b-240b-4d99-8bb0-0f2745deac28",
   "2bc0cda4-2206-44c2-a59c-23189ea3944e",
   "5b306d9d-87d9-4eee-84bc-272f9a5294cf"
  ]
 },
 "nbformat": 4,
 "nbformat_minor": 5
}
